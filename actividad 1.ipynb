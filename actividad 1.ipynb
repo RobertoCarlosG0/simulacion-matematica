{
 "cells": [
  {
   "cell_type": "markdown",
   "id": "2871778c",
   "metadata": {},
   "source": [
    "# Roberto Carlos Guzmán Orduño. 22/01/2024"
   ]
  },
  {
   "cell_type": "markdown",
   "id": "9f759960",
   "metadata": {},
   "source": [
    "## Función que recibe un número entero y te dice si es un número primo."
   ]
  },
  {
   "cell_type": "code",
   "execution_count": null,
   "id": "b7fe4264",
   "metadata": {},
   "outputs": [],
   "source": [
    "x=int(input(\"Ingresar numero\"))\n",
    "def checar_si_es_primo(x) :\n",
    "    if x <= 1:\n",
    "        return False\n",
    "    for i in range(2, int((x**0.5) +1)):\n",
    "        if x % i == 0:\n",
    "            return False\n",
    "        return True\n",
    "if checar_si_es_primo(x) is True:\n",
    "        print(\"es primo\")\n",
    "else:\n",
    "    print(\"no es primo\")\n"
   ]
  },
  {
   "cell_type": "markdown",
   "id": "245308af",
   "metadata": {},
   "source": [
    "## Función que recibe un número y te regresa el factorial de ese número."
   ]
  },
  {
   "cell_type": "code",
   "execution_count": 1,
   "id": "cc3b9011",
   "metadata": {},
   "outputs": [
    {
     "name": "stdout",
     "output_type": "stream",
     "text": [
      "Ingresar numero2\n"
     ]
    },
    {
     "data": {
      "text/plain": [
       "2"
      ]
     },
     "execution_count": 1,
     "metadata": {},
     "output_type": "execute_result"
    }
   ],
   "source": [
    "y=int(input(\"Ingresar numero\"))\n",
    "def factorial(y):\n",
    "    if y < 0:\n",
    "        return \"ingresar numero positivo\"\n",
    "    elif y == 0 or y== 1:\n",
    "        return 1\n",
    "    else:\n",
    "        factorial_y = y * factorial(y-1)\n",
    "        return factorial_y\n",
    "\n",
    "factorial (y)\n",
    "        \n",
    "\n"
   ]
  },
  {
   "cell_type": "markdown",
   "id": "b59c75ef",
   "metadata": {},
   "source": [
    "## Celda donde revisa los números del 1 al 1000 e imprime aquellos que son primos."
   ]
  },
  {
   "cell_type": "code",
   "execution_count": 4,
   "id": "9dd3cc61",
   "metadata": {},
   "outputs": [
    {
     "name": "stdout",
     "output_type": "stream",
     "text": [
      "[5, 7, 9, 11, 13, 15, 17, 19, 21, 23, 25, 27, 29, 31, 33, 35, 37, 39, 41, 43, 45, 47, 49, 51, 53, 55, 57, 59, 61, 63, 65, 67, 69, 71, 73, 75, 77, 79, 81, 83, 85, 87, 89, 91, 93, 95, 97, 99, 101, 103, 105, 107, 109, 111, 113, 115, 117, 119, 121, 123, 125, 127, 129, 131, 133, 135, 137, 139, 141, 143, 145, 147, 149, 151, 153, 155, 157, 159, 161, 163, 165, 167, 169, 171, 173, 175, 177, 179, 181, 183, 185, 187, 189, 191, 193, 195, 197, 199, 201, 203, 205, 207, 209, 211, 213, 215, 217, 219, 221, 223, 225, 227, 229, 231, 233, 235, 237, 239, 241, 243, 245, 247, 249, 251, 253, 255, 257, 259, 261, 263, 265, 267, 269, 271, 273, 275, 277, 279, 281, 283, 285, 287, 289, 291, 293, 295, 297, 299, 301, 303, 305, 307, 309, 311, 313, 315, 317, 319, 321, 323, 325, 327, 329, 331, 333, 335, 337, 339, 341, 343, 345, 347, 349, 351, 353, 355, 357, 359, 361, 363, 365, 367, 369, 371, 373, 375, 377, 379, 381, 383, 385, 387, 389, 391, 393, 395, 397, 399, 401, 403, 405, 407, 409, 411, 413, 415, 417, 419, 421, 423, 425, 427, 429, 431, 433, 435, 437, 439, 441, 443, 445, 447, 449, 451, 453, 455, 457, 459, 461, 463, 465, 467, 469, 471, 473, 475, 477, 479, 481, 483, 485, 487, 489, 491, 493, 495, 497, 499, 501, 503, 505, 507, 509, 511, 513, 515, 517, 519, 521, 523, 525, 527, 529, 531, 533, 535, 537, 539, 541, 543, 545, 547, 549, 551, 553, 555, 557, 559, 561, 563, 565, 567, 569, 571, 573, 575, 577, 579, 581, 583, 585, 587, 589, 591, 593, 595, 597, 599, 601, 603, 605, 607, 609, 611, 613, 615, 617, 619, 621, 623, 625, 627, 629, 631, 633, 635, 637, 639, 641, 643, 645, 647, 649, 651, 653, 655, 657, 659, 661, 663, 665, 667, 669, 671, 673, 675, 677, 679, 681, 683, 685, 687, 689, 691, 693, 695, 697, 699, 701, 703, 705, 707, 709, 711, 713, 715, 717, 719, 721, 723, 725, 727, 729, 731, 733, 735, 737, 739, 741, 743, 745, 747, 749, 751, 753, 755, 757, 759, 761, 763, 765, 767, 769, 771, 773, 775, 777, 779, 781, 783, 785, 787, 789, 791, 793, 795, 797, 799, 801, 803, 805, 807, 809, 811, 813, 815, 817, 819, 821, 823, 825, 827, 829, 831, 833, 835, 837, 839, 841, 843, 845, 847, 849, 851, 853, 855, 857, 859, 861, 863, 865, 867, 869, 871, 873, 875, 877, 879, 881, 883, 885, 887, 889, 891, 893, 895, 897, 899, 901, 903, 905, 907, 909, 911, 913, 915, 917, 919, 921, 923, 925, 927, 929, 931, 933, 935, 937, 939, 941, 943, 945, 947, 949, 951, 953, 955, 957, 959, 961, 963, 965, 967, 969, 971, 973, 975, 977, 979, 981, 983, 985, 987, 989, 991, 993, 995, 997, 999]\n"
     ]
    }
   ],
   "source": [
    "lista=[]\n",
    "num = 2\n",
    "\n",
    "for num in range (1,1001):\n",
    "    if checar_si_es_primo(num):\n",
    "        lista.append(num)\n",
    "        num +=1\n",
    "\n",
    "print(lista)"
   ]
  },
  {
   "cell_type": "code",
   "execution_count": 2,
   "id": "c480925a",
   "metadata": {},
   "outputs": [
    {
     "name": "stdout",
     "output_type": "stream",
     "text": [
      "2\n",
      "120\n",
      "40320\n",
      "39916800\n"
     ]
    }
   ],
   "source": [
    "lista2=[2, 5, 8, 11]\n",
    "for i in lista2:\n",
    "    print(factorial(i))"
   ]
  },
  {
   "cell_type": "code",
   "execution_count": null,
   "id": "7173e254",
   "metadata": {},
   "outputs": [],
   "source": []
  }
 ],
 "metadata": {
  "kernelspec": {
   "display_name": "Python 3 (ipykernel)",
   "language": "python",
   "name": "python3"
  },
  "language_info": {
   "codemirror_mode": {
    "name": "ipython",
    "version": 3
   },
   "file_extension": ".py",
   "mimetype": "text/x-python",
   "name": "python",
   "nbconvert_exporter": "python",
   "pygments_lexer": "ipython3",
   "version": "3.11.5"
  }
 },
 "nbformat": 4,
 "nbformat_minor": 5
}
