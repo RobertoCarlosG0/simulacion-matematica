{
  "metadata": {
    "kernelspec": {
      "name": "python",
      "display_name": "Python (Pyodide)",
      "language": "python"
    },
    "language_info": {
      "codemirror_mode": {
        "name": "python",
        "version": 3
      },
      "file_extension": ".py",
      "mimetype": "text/x-python",
      "name": "python",
      "nbconvert_exporter": "python",
      "pygments_lexer": "ipython3",
      "version": "3.8"
    }
  },
  "nbformat_minor": 4,
  "nbformat": 4,
  "cells": [
    {
      "cell_type": "markdown",
      "source": "# Tarea 1, Introducción Markdown\n\n",
      "metadata": {}
    },
    {
      "cell_type": "markdown",
      "source": "#### Roberto Carlos Guzmán Orduño\n#### 15/01/2024",
      "metadata": {}
    },
    {
      "cell_type": "markdown",
      "source": "![](data:image/jpeg;base64,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)",
      "metadata": {}
    },
    {
      "cell_type": "markdown",
      "source": "Mi nombre es **Roberto Carlos**, nací en la ciudad de Los Mochis, Sinaloa, y vine a estudiar la carrera de *Ingeniería Financiera* al ITESO. Estoy empezando el cuarto semestre de la carrera.\n\nA continuación, haré una lista ordenando mis pasatiempos favoritos:\n\n1. Hablar con mis amigos.\n2. Entrenar.\n3. Tocar el piano.\n4. Jugar videojuegos.\n5. Dormir.\n\nA lo largo de estos semestres he cursado las siguientes materias:\n- Economía\n- Programación\n- Ingeniería Financiera\n- Cálculo Diferencial\n- Cálculo Integral\n- Álgebra Lineal\n- Fundamentos Matemáticos\n\nY de todas esas la única fórmula de la que me acuerdo es esta: \n$$ M = C*(1 + i*n) $$(mentira si me acuerdo de otras, nomás es para el ejemplo)\n\nEsa formula es para calcular el valor futuro de una operación de capital.\n\nEl tema de mi carrera que más fresco tengo es el de **Shorts** y **Longs**, estos se utilizan para describir las dos principales estrategias de inversión que los participantes del mercado emplean para obtener ganancias o gestionar riesgos. Estas estrategias se centran en la compra y venta de activos financieros, como acciones, divisas o materias primas.",
      "metadata": {}
    },
    {
      "cell_type": "code",
      "source": "",
      "metadata": {
        "trusted": true
      },
      "outputs": [],
      "execution_count": null
    }
  ]
}